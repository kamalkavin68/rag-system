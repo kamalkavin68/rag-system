{
 "cells": [
  {
   "cell_type": "code",
   "execution_count": 1,
   "id": "0a3d743e",
   "metadata": {},
   "outputs": [],
   "source": [
    "from dotenv import load_dotenv\n",
    "load_dotenv()\n",
    "\n",
    "\n",
    "from src.services.vector_storage_service import VectorStorageManager\n",
    "from src.services.chunking_process import SemanticChunkerWithNLP\n",
    "from src.services.loading_documents import DocumentLoader\n",
    "from src.services.QueryTransformation import QueryTransformation\n",
    "\n",
    "\n",
    "\n",
    "query_transformer = QueryTransformation()\n",
    "document_loader = DocumentLoader()\n",
    "semantic_chunker_nlp = SemanticChunkerWithNLP()\n",
    "vector_store_manager = VectorStorageManager()"
   ]
  },
  {
   "cell_type": "code",
   "execution_count": 2,
   "id": "9257f5e9",
   "metadata": {},
   "outputs": [],
   "source": [
    "loaded_documents = document_loader.load_from_local(\"./rag-data/\")"
   ]
  },
  {
   "cell_type": "code",
   "execution_count": null,
   "id": "9b9534bf",
   "metadata": {},
   "outputs": [],
   "source": [
    "# chunked_documents = semantic_chunker_nlp.chunk_and_enrich(loaded_documents)"
   ]
  },
  {
   "cell_type": "code",
   "execution_count": 5,
   "id": "f0e8d215",
   "metadata": {},
   "outputs": [],
   "source": [
    "\n",
    "# vector_store = vector_store_manager.store_in_faiss(chunked_documents, \"faiss_index\")\n",
    "vector_store = vector_store_manager.exist_in_faiss()"
   ]
  },
  {
   "cell_type": "code",
   "execution_count": 11,
   "id": "5f82d820",
   "metadata": {},
   "outputs": [],
   "source": [
    "user_query = \"Indian Agriculture and its irrigation system, also i need to know about indian independence movement\"\n",
    "processed_query = query_transformer.process_query(user_query)"
   ]
  },
  {
   "cell_type": "code",
   "execution_count": 12,
   "id": "4d073258",
   "metadata": {},
   "outputs": [
    {
     "data": {
      "text/plain": [
       "{'Q1': 'What are the characteristics of Indian agriculture?',\n",
       " 'Q2': 'How does the irrigation system in India work?',\n",
       " 'Q3': 'What was the Indian independence movement?'}"
      ]
     },
     "execution_count": 12,
     "metadata": {},
     "output_type": "execute_result"
    }
   ],
   "source": [
    "processed_query"
   ]
  },
  {
   "cell_type": "code",
   "execution_count": 13,
   "id": "82526068",
   "metadata": {},
   "outputs": [
    {
     "name": "stderr",
     "output_type": "stream",
     "text": [
      "C:\\Users\\Kavin\\AppData\\Local\\Temp\\ipykernel_5604\\903945023.py:5: LangChainDeprecationWarning: The method `BaseRetriever.get_relevant_documents` was deprecated in langchain-core 0.1.46 and will be removed in 1.0. Use :meth:`~invoke` instead.\n",
      "  top_k_docs = retriever.get_relevant_documents(each_query_value)\n"
     ]
    }
   ],
   "source": [
    "final_query_context = []\n",
    "\n",
    "for each_query_key, each_query_value in processed_query.items():\n",
    "    retriever = vector_store.as_retriever(search_type=\"mmr\", search_kwargs={\"k\": 10})\n",
    "    top_k_docs = retriever.get_relevant_documents(each_query_value)\n",
    "    final_query_context.append({\"question\": each_query_value, \"context\": \"[\"+\"\\n\\n\".join([doc.page_content for doc in top_k_docs[:5]]) + \"]\"})\n",
    "    "
   ]
  },
  {
   "cell_type": "code",
   "execution_count": 14,
   "id": "628d39fe",
   "metadata": {},
   "outputs": [
    {
     "data": {
      "text/plain": [
       "'\\nQuestion 1: What are the characteristics of Indian agriculture?\\n\\nContext 1: \\n[Tamil Nadu achieved highest yields in rice and sugarcane, Haryana in wheat and coarse grains, Karnataka in cotton, Bihar in pulses, while other states do well in horticulture, aquaculture, flower and fruit plantations. These differences in agricultural productivity are a function of local infrastructure, soil quality, micro-climates, local resources, farmer knowledge and innovations. The Indian food distribution system is highly inefficient. Movement of agricultural produce is heavily regulated, with inter-state and even inter-district restrictions on marketing and movement of agricultural goods. One study suggests Indian agricultural policy should best focus on improving rural infrastructure primarily in the form of irrigation and flood control infrastructure, knowledge transfer of better yielding and more disease resistant seeds. Additionally, cold storage, hygienic food packaging and efficient modern retail to reduce waste can improve output and rural incomes. The low productivity in India is a result of the following factors: The average size of land holdings is very small (less than 2 hectares) and is subject to fragmentation due to land ceiling acts, and in some cases, family disputes.\\n\\nIndian agriculture includes a mix of traditional to modern farming techniques.\\n\\nThis isn\\'t because of reduced importance of agriculture or a consequence of agricultural policy; rather, it is largely due to the rapid economic growth in services, industrial output, and non-agricultural sectors in India between 2000 and 2010. Agricultural scientist MS Swaminathan has played a vital role in the green revolution. In 2013, NDTV named him one of 25 living legends of India for outstanding contributions to agriculture and making India a food- sovereign country.\\n\\nOther crops cultivated in India 3000 to 6000 years ago, include sesame, linseed, safflower, mustard, castor, mung bean, black gram, horse gram, pigeon pea, field pea, grass pea (khesari), fenugreek, cotton, jujube, grapes, dates, jack fruit, mango, mulberry, and black plum. Indians might have domesticated buffalo (the river type) 5000 years ago. According to some scientists agriculture was widespread in the Indian peninsula, 10000–3000 years ago, well beyond the fertile plains of the north. For example, one study reports 12 sites in the southern Indian states of Tamil Nadu, Andhra Pradesh and Karnataka providing clear evidence of agriculture of pulses Vigna radiata and Macrotyloma uniflorum, millet-grasses (Brachiaria ramosa and Setaria verticillata), wheats (Triticum dicoccum, Triticum durum/aestivum), barley (Hordeum vulgare), hyacinth bean (Lablab purpureus), sorghum (Sorghum bicolor), pearl millet (Pennisetum glaucum), finger millet (Eleusine coracana), cotton (Gossypium sp.), linseed (Linum sp.), as well as gathered fruits of Ziziphus and two Cucurbitaceae. Some claim Indian agriculture began by 9000 BC as a result of early cultivation of plants, and domestication of crops.\\n\\nAgromarketing is poorly developed in India. Indian National Policy for Farmers of 2007 stated that \"prime farmland must be conserved for agriculture except under exceptional circumstances, provided that the agencies that are provided with agricultural land for non-agricultural projects should compensate for treatment and full development of equivalent degraded or wastelands elsewhere\". The policy suggested that, as far as possible, land with low farming yields or that was not farmable should be earmarked for non-agricultural purposes such as construction, industrial parks and other commercial development. Amartya Sen offered a counter viewpoint, stating that \"prohibiting the use of agricultural land for commercial and industrial development is ultimately self-defeating\". He stated that agricultural land may be better suited for non-agriculture purposes if industrial production could generate many times more than the value of the product produced by agriculture. Sen suggested India needed to bring productive industry everywhere, wherever there are advantages of production, market needs and the locational preferences of managers, engineers, technical experts as well as unskilled labour because of education, healthcare and other infrastructure. He stated that instead of government controlling land allocation based on soil characteristics, the market economy should determine productive allocation of land.]\\nQuestion 2: How does the irrigation system in India work?\\n\\nContext 2: \\n[Rates of electricity usage for agricultural purposes have been discussed extensively over the years. Indian irrigation infrastructure includes a network of major and minor canals from rivers, groundwater well-based systems, tanks, and other rainwater harvesting projects for agricultural activities. Of these, the groundwater system is the largest. Of the 219.158 million Irrigation\\n\\nIrrigation systems are inadequate, leading to crop failures in some parts of the country because of lack of water. In other areas regional floods, poor seed quality and inefficient farming practices, lack of cold storage and harvest spoilage cause over 30% of farmer\\'s produce going to waste, lack of organised retail and competing buyers thereby limiting Indian farmer\\'s ability to sell the surplus and commercial crops. The Indian farmer receives just 10% to 23% of the price the Indian consumer pays for exactly the same produce, the difference going to losses,  inefficiencies  and  middlemen. Farmers  in  developed economies of Europe and the United States receive 64% to 81%. Although India has attained self-sufficiency in food staples, the productivity of its farms is below that of Brazil, the United States, France and other nations. Indian wheat farms, for example, produce about a third of the wheat per hectare per year compared to farms in France. Rice productivity in India was less than half that of China. Other staples productivity in India is similarly low. Indian total factor productivity growth remains below 2% per annum; in contrast, China\\'s total factor productivity growths is about 6% per annum, even though China also has smallholding farmers. Several studies suggest India could eradicate its hunger and malnutrition and be a major source of food for the world by achieving productivity comparable with other countries. By contrast, Indian farms in some regions post the best yields, for sugarcane, cassava and tea crops. Crop yields vary significantly between Indian states. Some states produce two to three times more grain per acre than others. As the map shows, the traditional regions of high agricultural productivity in India are the north west (Punjab, Haryana and Western Uttar Pradesh), coastal districts on both coasts, West Bengal and Tamil Nadu. In recent years, the states of Madhya Pradesh, Jharkhand, Chhattisgarh in central India and Gujarat in the west have shown rapid agricultural growth. The table compares the statewide average yields for a few major agricultural crops in India, for 2001–2002. Infrastructure Productivity\\n\\nThe state of Punjab led India\\'s Green Revolution and earned the distinction of being the country\\'s bread basket. Sunflower farm in Lepakshi, Andhra Pradesh An irrigation canal in Andhra Pradesh. Irrigation contributes significantly to agriculture in India.\\n\\nIrrigation facilities are inadequate, as revealed by the fact that only 52.6% of the land was irrigated in 2003–04, which result in farmers still being dependent on rainfall, specifically the monsoon season. A good monsoon results in a robust growth for the economy, while a poor monsoon leads to a sluggish growth.\\n\\nThe country has networks of cooperatives at the local, regional, state and national levels that assist in agricultural marketing. The commodities that are mostly handled are food grains, jute, cotton, sugar, milk, fruit and nuts Support by the state government led to more than 25,000 cooperatives being set up by the 1990s in the state of Maharashtra. Most of the sugar production in India takes place at mills owned by local cooperative societies. The members of the society include all farmers, small and large, supplying sugarcane to the mill. Over the last fifty years, the local sugar mills have played a crucial part in encouraging political participation and as a stepping stone for aspiring politicians. This is particularly true in the state of Maharashtra where a large number of politicians belonging to the Congress party or NCP had ties to sugar cooperatives from their local area and has created a symbiotic relationship between the sugar factories and local politics. However, the policy of \"profits for the company but losses to be borne by the government\", has made a number of these operations inefficient. As with sugar, cooperatives play a significant part in the overall marketing of fruit and vegetables in India. Since the 1980s, the amount of produce handled by Cooperative societies has increased exponentially. Common fruit and vegetables marketed by the societies include bananas, mangoes, grapes, onions and many others. Dairy farming based on the Amul Pattern, with a single marketing cooperative, is India\\'s largest self-sustaining industry and its largest rural employment provider. Successful implementation of the Amul model has made India the world\\'s largest milk producer. Here small, marginal farmers with a couple or so heads of milch cattle queue up twice daily to pour milk from their small containers into the village union collection points. The milk after processing at the district unions is then marketed by the state cooperative federation nationally under the Amul brand name, India\\'s largest food brand. With the Anand pattern three-fourth of the price paid by the mainly urban consumers goes into the hands of millions of small dairy farmers, who are the owners of the brand and the cooperative. Organic agriculture Agriculture based cooperatives Sugar industry Marketing Dairy industry]\\nQuestion 3: What was the Indian independence movement?\\n\\nContext 3: \\n[The first nationalistic movement took root in the newly formed Indian National Congress with prominent moderate leaders seeking the right to appear for Indian Civil Service examinations in British India, as well as more economic rights for natives. The first half of the 20th century saw a more radical approach towards self-rule. The stages of the independence struggle in the 1920s were characterised by the leadership of Mahatma Gandhi and Congress\\'s adoption of Gandhi\\'s policy of non-violence and civil disobedience. Some of the leading followers of Gandhi\\'s ideology were Jawaharlal Nehru, Vallabhbhai Patel, Abdul Ghaffar Khan, Maulana Azad, and others. Intellectuals such as Rabindranath Tagore, Subramania Bharati, and Bankim Chandra Chattopadhyay spread patriotic awareness. Female leaders like Sarojini Naidu, Vijaya Lakshmi Pandit, Pritilata Waddedar, and Kasturba Gandhi promoted the emancipation of Indian women and their participation in the freedom struggle. Few leaders followed a more violent approach, which became especially popular after the Rowlatt Act, which permitted indefinite detention. The Act sparked protests across India, especially in the Punjab Province, where they were violently suppressed in the Jallianwala Bagh massacre. The Indian independence movement was in constant ideological evolution.\\n\\nIndian independence movement The Indian independence movement was a series of historic events in South Asia with the ultimate aim of ending British colonial rule. It lasted until 1947, when the Indian Independence Act 1947 was passed.\\n\\nNone of the revolutionary conspiracies made a significant impact inside India. The prospect that subversive violence would have an effect on a popular war effort drew support from the Indian population for special measures against anti-colonial activities in the form of Defence of India Act 1915. There were no major mutinies occurring during wartime, yet conspiracies exacerbated profound fears of insurrection among British officials, preparing them to use extreme force to frighten Indians into submission. The Hindu–German Conspiracy, was a series of plans between 1914 and 1917 by Indian nationalist groups to attempt Pan-Indian rebellion against the British Raj during World War I, formulated between the Indian revolutionary underground and exiled or self-exiled nationalists who formed, in the United States, the Ghadar Party, and in Germany, the Indian independence committee, in the decade preceding the Great War. The conspiracy was drawn up at the beginning of the war, with extensive support from the German Foreign Office, the German consulate in San Francisco, as well as some support from Ottoman Turkey and the Irish republican movement. The most prominent plan attempted to foment unrest and trigger a Pan-Indian mutiny in the British Indian Army from Punjab to Singapore. This plot was planned to be executed in February 1915 with the aim of overthrowing British rule over the Indian subcontinent. The February mutiny was ultimately thwarted when British intelligence infiltrated the Ghadarite movement and arrested key figures.\\n\\nChidambaram Pillai, Sri Aurobindo, Surendranath Banerjee, and Rabindranath Tagore were some of the prominent leaders of movements in the early 20th century. The Swadeshi movement was the most successful. The name of Lokmanya began spreading around and people started following him in all parts of the country. The Indian textile industry also played an important role in the freedom struggle of India.\\n\\nAs such, the British government did not crackdown on the RSS and Hindu Mahasabha at all. The RSS head (sarsanghchalak) during that time, M.S. Golwalkar later openly admitted to the fact that the RSS did not participate in the Quit India Movement. However, such an attitude during the Indian independence movement also led to the Sangh being viewed with distrust and anger, both by the general Indian public, as well as certain members of the organisation itself. In Golwalkar\\'s own words, In 1942 also, there was a strong sentiment in the hearts of many. At that time too, the routine work of the Sangh continued. Sangh decided not to do anything directly. \\'Sangh is the organisation of inactive people, their talks have no substance\\' was the opinion uttered not only by outsiders but also our own swayamsevaks. A number of violent incidents against British officials also took place during the Quit India movement around the country.]'"
      ]
     },
     "execution_count": 14,
     "metadata": {},
     "output_type": "execute_result"
    }
   ],
   "source": [
    "final_query_context_string = \"\"\n",
    "\n",
    "\n",
    "for index, each_query_context in enumerate(final_query_context):\n",
    "    final_query_context_string = final_query_context_string + f\"\\nQuestion {index+1}: \" + each_query_context[\"question\"] + f\"\\n\\nContext {index+1}: \\n\" + each_query_context[\"context\"]\n",
    "\n",
    "final_query_context_string"
   ]
  },
  {
   "cell_type": "code",
   "execution_count": 40,
   "id": "f6b31882",
   "metadata": {},
   "outputs": [],
   "source": [
    "import os\n",
    "from anthropic import AnthropicBedrock\n",
    "\n",
    "\n",
    "def talk_to_anthropic(context):\n",
    "\n",
    "    system_prompt = f\"\"\"\n",
    "You are a helpful and concise AI assistant. Your task is to generate informative and structured answers based solely on the paired context for each user question.\n",
    "\n",
    "Instructions:\n",
    "- Each question is followed by its corresponding context.\n",
    "- Answer each question independently.\n",
    "- Do NOT include or repeat the question in your response.\n",
    "- Begin each answer with a short, descriptive title (do NOT prefix it with \"Title:\", \"Question [No]:\").\n",
    "- On the line below the title, provide the most complete and accurate answer using only the provided context.\n",
    "- You may synthesize or paraphrase the context to form a complete answer.\n",
    "- Use logical inference if necessary, but do NOT introduce facts not supported or implied by the context.\n",
    "- Structure the answer using bullet points or numbered lists if helpful.\n",
    "- If the context lacks enough information to generate a meaningful response, write:\n",
    "  Information not available for the given title: The provided context does not contain sufficient details to answer this question.\n",
    "\n",
    "Now process the following question-context pairs:\n",
    "\n",
    "{context}\n",
    "\"\"\"\n",
    "\n",
    "    # print(system_prompt)\n",
    "    aws_access_key = os.getenv(\"AWS_ACCESS_KEY\")\n",
    "    aws_secret_key = os.getenv(\"AWS_SECRET_KEY\")\n",
    "    aws_region = os.getenv(\"AWS_REGION\")\n",
    "    aws_model = os.getenv(\"AWS_MODEL\")\n",
    "\n",
    "    client = AnthropicBedrock(\n",
    "        aws_access_key=aws_access_key,\n",
    "        aws_secret_key=aws_secret_key,\n",
    "        aws_region=aws_region\n",
    "    )\n",
    "\n",
    "    message = client.messages.create(\n",
    "        model=aws_model,\n",
    "        max_tokens=5000,\n",
    "        temperature=0.4,\n",
    "        # messages=chat_history + [{\"role\": \"user\", \"content\": system_prompt}],\n",
    "        messages=[{\"role\": \"user\", \"content\": system_prompt}],\n",
    "    )\n",
    "\n",
    "    return message.content[0].text, system_prompt\n"
   ]
  },
  {
   "cell_type": "code",
   "execution_count": 16,
   "id": "04452d95",
   "metadata": {},
   "outputs": [],
   "source": [
    "\n",
    "\n",
    "def validate_response_with_claude(context, generated_response):\n",
    "    validation_prompt = f\"\"\"\n",
    "You are a critical and precise evaluator.\n",
    "\n",
    "Your task is to validate whether the following generated responses are:\n",
    "1. Factually supported by the information in the given question-context pairs.\n",
    "2. Free from hallucinated or made-up information.\n",
    "3. Relevant to each question and its context.\n",
    "\n",
    "Instructions:\n",
    "- Carefully compare the response to the matching context.\n",
    "- If all answers are factually grounded and fully supported by the context, respond with: \"Valid\".\n",
    "- If any answer contains unsupported, irrelevant, or made-up content, respond with: \"Invalid\".\n",
    "- Do NOT explain or include anything other than the word \"Valid\" or \"Invalid\".\n",
    "\n",
    "Question-Context Pairs:\n",
    "{context}\n",
    "\n",
    "Generated Response:\n",
    "{generated_response}\n",
    "\"\"\"\n",
    "\n",
    "    # Load AWS credentials and config from environment\n",
    "    aws_access_key = os.getenv(\"AWS_ACCESS_KEY\")\n",
    "    aws_secret_key = os.getenv(\"AWS_SECRET_KEY\")\n",
    "    aws_region = os.getenv(\"AWS_REGION\")\n",
    "    aws_model = os.getenv(\"AWS_MODEL\")  # e.g. \"anthropic.claude-3-sonnet-20240229\"\n",
    "\n",
    "    # Initialize Claude (Anthropic) client\n",
    "    client = AnthropicBedrock(\n",
    "        aws_access_key=aws_access_key,\n",
    "        aws_secret_key=aws_secret_key,\n",
    "        aws_region=aws_region\n",
    "    )\n",
    "\n",
    "    message = client.messages.create(\n",
    "        model=aws_model,\n",
    "        max_tokens=200,\n",
    "        temperature=0.0,\n",
    "        messages=[{\"role\": \"user\", \"content\": validation_prompt.strip()}]\n",
    "    )\n",
    "\n",
    "    return message.content[0].text.strip()\n"
   ]
  },
  {
   "cell_type": "code",
   "execution_count": 41,
   "id": "7eb82097",
   "metadata": {},
   "outputs": [],
   "source": [
    "\n",
    "response, system_prompt = talk_to_anthropic(final_query_context_string)\n"
   ]
  },
  {
   "cell_type": "code",
   "execution_count": 42,
   "id": "ca4c6b41",
   "metadata": {},
   "outputs": [],
   "source": [
    "validation_result = validate_response_with_claude(final_query_context_string, response)"
   ]
  },
  {
   "cell_type": "code",
   "execution_count": 44,
   "id": "139518ad",
   "metadata": {},
   "outputs": [
    {
     "data": {
      "text/plain": [
       "'Valid'"
      ]
     },
     "execution_count": 44,
     "metadata": {},
     "output_type": "execute_result"
    }
   ],
   "source": [
    "validation_result"
   ]
  }
 ],
 "metadata": {
  "kernelspec": {
   "display_name": ".venv",
   "language": "python",
   "name": "python3"
  },
  "language_info": {
   "codemirror_mode": {
    "name": "ipython",
    "version": 3
   },
   "file_extension": ".py",
   "mimetype": "text/x-python",
   "name": "python",
   "nbconvert_exporter": "python",
   "pygments_lexer": "ipython3",
   "version": "3.13.4"
  }
 },
 "nbformat": 4,
 "nbformat_minor": 5
}
